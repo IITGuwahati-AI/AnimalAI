{
 "cells": [
  {
   "cell_type": "code",
   "execution_count": 52,
   "metadata": {},
   "outputs": [],
   "source": [
    "import numpy as np\n",
    "import glob"
   ]
  },
  {
   "cell_type": "code",
   "execution_count": 53,
   "metadata": {},
   "outputs": [],
   "source": [
    "dataset_path = '../../saved_environment_final1/extra_data/'"
   ]
  },
  {
   "cell_type": "code",
   "execution_count": 54,
   "metadata": {},
   "outputs": [
    {
     "name": "stdout",
     "output_type": "stream",
     "text": [
      "['../../saved_environment_final1/extra_data/env0.npz', '../../saved_environment_final1/extra_data/env10.npz', '../../saved_environment_final1/extra_data/env11.npz', '../../saved_environment_final1/extra_data/env2.npz']\n"
     ]
    }
   ],
   "source": [
    "all_npzs = sorted(glob.glob(dataset_path+'*.npz'))\n",
    "print(all_npzs)\n",
    "\n",
    "npz_path = all_npzs[0]\n",
    "data = np.load(npz_path)\n",
    "# all_data = {'observations': data['observations'],\n",
    "#             'rewards': data['rewards'] ,\n",
    "#             'episode_returns': data['episode_returns'] ,\n",
    "#             'actions': data['actions'],\n",
    "#             'episode_starts': data['episode_starts'] }\n",
    "\n",
    "# print(all_data['observations'].shape, all_data['rewards'].shape, all_data['episode_returns'].shape, all_data['actions'].shape, all_data['episode_starts'].shape)\n",
    "\n",
    "# for npz_path in all_npzs[1:]:\n",
    "#     data = np.load(npz_path)\n",
    "#     print(npz_path)\n",
    "#     #print(data['observations'].shape, data['rewards'].shape, data['episode_returns'].shape, data['actions'].shape, data['episode_starts'].shape)\n",
    "#     all_data['observations'] = np.concatenate((all_data['observations'], data['observations']))\n",
    "#     all_data['rewards'] = np.concatenate((all_data['rewards'], data['rewards']))\n",
    "#     all_data['episode_returns'] = np.concatenate((all_data['episode_returns'], data['episode_returns']))\n",
    "#     all_data['actions'] = np.concatenate((all_data['actions'], data['actions']))\n",
    "#     all_data['episode_starts'] = np.concatenate((all_data['episode_starts'], data['episode_starts']))\n",
    "#     print(all_data['observations'].shape, all_data['rewards'].shape, all_data['episode_returns'].shape, all_data['actions'].shape, all_data['episode_starts'].shape)\n",
    "\n",
    "# all_data['actions'] = all_data['actions'].reshape(-1,1)\n",
    "# print(all_data['observations'].shape, all_data['rewards'].shape, all_data['episode_returns'].shape, all_data['actions'].shape, all_data['episode_starts'].shape)\n",
    "# save_path = '../../saved_environment_final1/all_data'\n",
    "# np.savez(save_path, **all_data)"
   ]
  },
  {
   "cell_type": "code",
   "execution_count": 55,
   "metadata": {},
   "outputs": [
    {
     "data": {
      "text/plain": [
       "<numpy.lib.npyio.NpzFile at 0x7f5b892ee748>"
      ]
     },
     "execution_count": 55,
     "metadata": {},
     "output_type": "execute_result"
    }
   ],
   "source": [
    "data"
   ]
  },
  {
   "cell_type": "code",
   "execution_count": 56,
   "metadata": {},
   "outputs": [
    {
     "data": {
      "text/plain": [
       "(3035, 84, 84, 6)"
      ]
     },
     "execution_count": 56,
     "metadata": {},
     "output_type": "execute_result"
    }
   ],
   "source": [
    "data['observations'].shape"
   ]
  },
  {
   "cell_type": "code",
   "execution_count": 57,
   "metadata": {},
   "outputs": [
    {
     "data": {
      "image/png": "[encoded data removed]",
      "text/plain": [
       "<Figure size 432x288 with 1 Axes>"
      ]
     },
     "metadata": {},
     "output_type": "display_data"
    },
    {
     "data": {
      "image/png": "[encoded data removed]",
      "text/plain": [
       "<Figure size 432x288 with 1 Axes>"
      ]
     },
     "metadata": {},
     "output_type": "display_data"
    }
   ],
   "source": [
    "import matplotlib.pyplot as plt\n",
    "plt.plot(data['episode_starts'])\n",
    "plt.show()\n",
    "plt.plot(data['rewards'])\n",
    "plt.show()\n",
    "data['episd']"
   ]
  },
  {
   "cell_type": "code",
   "execution_count": null,
   "metadata": {
    "scrolled": false
   },
   "outputs": [],
   "source": [
    "import matplotlib.pyplot as plt\n",
    "val = []\n",
    "subs = data['observations'][1:] - data['observations'][:-1]\n",
    "print(subs.shape)\n",
    "\n",
    "mean = np.mean(np.mean(np.mean(subs, axis=1), axis=1), axis=1)\n",
    "plt.plot(mean)\n",
    "plt.show()\n",
    "mean = (mean - np.mean(mean))/np.std(mean)\n",
    "plt.plot(mean)\n",
    "plt.plot(2*np.ones(mean.shape))\n",
    "print(np.sum(np.abs(mean)>2.587))\n",
    "\n",
    "dones = np.abs(mean)> 2.587\n",
    "for i in range(len(dones)):\n",
    "    plt.imshow(data['observations'][i][:,:,:3])\n",
    "    plt.show()\n",
    "    plt.imshow(data['observations'][i][:,:,3:])\n",
    "    plt.show()\n",
    "    print(dones[i], np.abs(mean[i]))\n",
    "    if dones[i]==True:\n",
    "        print('##############################################################################')"
   ]
  },
  {
   "cell_type": "code",
   "execution_count": null,
   "metadata": {},
   "outputs": [],
   "source": []
  }
 ],
 "metadata": {
  "kernelspec": {
   "display_name": "Python 3",
   "language": "python",
   "name": "python3"
  },
  "language_info": {
   "codemirror_mode": {
    "name": "ipython",
    "version": 3
   },
   "file_extension": ".py",
   "mimetype": "text/x-python",
   "name": "python",
   "nbconvert_exporter": "python",
   "pygments_lexer": "ipython3",
   "version": "3.5.2"
  }
 },
 "nbformat": 4,
 "nbformat_minor": 2
}
